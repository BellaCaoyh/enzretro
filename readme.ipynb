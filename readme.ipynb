{
 "cells": [
  {
   "cell_type": "markdown",
   "metadata": {},
   "source": []
  },
  {
   "cell_type": "markdown",
   "metadata": {},
   "source": [
    "# 1 Start"
   ]
  },
  {
   "cell_type": "markdown",
   "metadata": {},
   "source": [
    "~~~\n",
    "conda create -n ENZRetro python=3.10\n",
    "conda activate ENZRetro\n",
    "cd path/to/this/project\n",
    "pip install torch==2.2.1 torchvision==0.17.1 torchaudio==2.2.1 --index-url https://download.pytorch.org/whl/cu121\n",
    "pip install -r requirements.txt\n",
    "~~~"
   ]
  },
  {
   "cell_type": "markdown",
   "metadata": {},
   "source": [
    "# 2 train"
   ]
  },
  {
   "cell_type": "markdown",
   "metadata": {},
   "source": [
    "Before training, make sure that you have \"model/pretrain/model\" in this project. You can download it.\n",
    "~~~shell\n",
    "python train.py --help\n",
    "python train.py --task <task_name> --ec <ec_level>\n",
    "~~~\n",
    "Model files will be generated.  \n",
    "You can also download \"model.zip\" and unzip it to get all the trained models.  "
   ]
  },
  {
   "cell_type": "markdown",
   "metadata": {},
   "source": [
    "# 3 val"
   ]
  },
  {
   "cell_type": "markdown",
   "metadata": {},
   "source": [
    "~~~\n",
    "python test.py --help\n",
    "python test.py --task <task_name> --ec <ec_level>\n",
    "~~~\n",
    "File \"result.txt\" and \"target.txt\" will be generated. You can see how to use it in \"result_summary.ipynb\".  \n",
    "You can also download \"test_result.zip\" and unzip it."
   ]
  },
  {
   "cell_type": "markdown",
   "metadata": {},
   "source": [
    "# 4 Call as API"
   ]
  },
  {
   "cell_type": "markdown",
   "metadata": {},
   "source": [
    "### 4.1 Obtain SSREdits based on product"
   ]
  },
  {
   "cell_type": "code",
   "execution_count": 2,
   "metadata": {},
   "outputs": [],
   "source": [
    "from product2SSREdits import Product2SSREdits\n",
    "p2s = Product2SSREdits()"
   ]
  },
  {
   "cell_type": "markdown",
   "metadata": {},
   "source": [
    "The input can be either a list of SMILES or a SMILES string."
   ]
  },
  {
   "cell_type": "code",
   "execution_count": 3,
   "metadata": {},
   "outputs": [],
   "source": [
    "smiles_lst = [\"O=C(NCc1ccccc1S(=O)(=O)C1CC1)C(F)(F)F\",\n",
    "                    \"C[Si](C)(C)OC(=O)C=CCBr\"]\n",
    "# return (dec_output, score_tensor), sentence_lst\n",
    "result = p2s(smiles_lst)"
   ]
  },
  {
   "cell_type": "markdown",
   "metadata": {},
   "source": [
    "Each output element contains `len(smiles_lst) * 10` data points. For example, if 20 data points are output, the first 10 correspond to the result of the first SMILES in `smiles_lst`, and the remaining 10 correspond to the result of the next SMILES."
   ]
  },
  {
   "cell_type": "markdown",
   "metadata": {},
   "source": [
    "score"
   ]
  },
  {
   "cell_type": "code",
   "execution_count": 4,
   "metadata": {},
   "outputs": [
    {
     "data": {
      "text/plain": [
       "[0.43010473251342773,\n",
       " 0.2086336314678192,\n",
       " 0.0927426666021347,\n",
       " 0.05440981686115265,\n",
       " 0.04763583093881607,\n",
       " 0.036632318049669266,\n",
       " 0.03546731919050217,\n",
       " 0.035047732293605804,\n",
       " 0.03366789221763611,\n",
       " 0.025658011436462402,\n",
       " 0.6153191924095154,\n",
       " 0.10858681052923203,\n",
       " 0.052005402743816376,\n",
       " 0.04673460125923157,\n",
       " 0.033947933465242386,\n",
       " 0.0335654616355896,\n",
       " 0.031513746827840805,\n",
       " 0.02667132206261158,\n",
       " 0.026163635775446892,\n",
       " 0.025491988286376]"
      ]
     },
     "execution_count": 4,
     "metadata": {},
     "output_type": "execute_result"
    }
   ],
   "source": [
    "result[0][1]"
   ]
  },
  {
   "cell_type": "markdown",
   "metadata": {},
   "source": [
    "SSREdits"
   ]
  },
  {
   "cell_type": "code",
   "execution_count": 5,
   "metadata": {},
   "outputs": [
    {
     "data": {
      "text/plain": [
       "['[Delete][Bond]CN:1.2[Attaching][Group]*OC(=O)C(F)(F)F:1',\n",
       " '[Delete][Bond]CN:1.2[Attaching][Group]*OCC:1',\n",
       " '[Delete][Bond]CN:1.2[Attaching][Group]*O:1',\n",
       " '[Delete][Bond]CN:1.2[Attaching][Group]*OC:1',\n",
       " '[Delete][Bond]CN:2.3[Attaching][Group]*Br:3',\n",
       " '[Delete][Bond]CC:3.4[Attaching][Group]*Br:3[Attaching][Group]*B(O)O:4',\n",
       " '[Delete][Bond]CC:13.14[Delete][Bond]CC:14.15[Change][Bond]C=C:13.15[Attaching][Group]*[S+](C)(C)=O:14',\n",
       " '[Delete][Bond]CN:2.3[Delete][Bond]CC:3.4[Attaching][Group]*=O:3',\n",
       " '[Delete][Bond]CC:13.14[Delete][Bond]CC:14.15[Change][Bond]C=C:13.15[Attaching][Group]*I:14[Attaching][Group]*I:14',\n",
       " '[Delete][Bond]CN:1.2[Attaching][Group]*OC1CCCCO1:1',\n",
       " '[Delete][Bond]CBr:9.10[Attaching][Group]*N1C(=O)CCC1=O:10',\n",
       " '[Delete][Bond]O[SiH3]:1.4[Attaching][Group]*Cl:1',\n",
       " '[Delete][Bond]CBr:9.10[Attaching][Group]*C(Br)(Br)Br:10[Attaching][Group]*O:9',\n",
       " '[Delete][Bond]O[SiH3]:1.4[Attaching][Group]*Br:1',\n",
       " '[Change][Bond]C=C:7.8',\n",
       " '[Delete][Bond]CO:4.5[Attaching][Group]*Br:5',\n",
       " '[Delete][Bond]CO:4.5[Attaching][Group]*Cl:5',\n",
       " '[Delete][Bond]CO:1.4[Attaching][Group]*Cl:1',\n",
       " '[Delete][Bond]CBr:8.9[Attaching][Group]*N1C(=O)CCC1=O:9',\n",
       " '[Change][Bond]C=C:7.8[Delete][Bond]CBr:9.10']"
      ]
     },
     "execution_count": 5,
     "metadata": {},
     "output_type": "execute_result"
    }
   ],
   "source": [
    "result[1]"
   ]
  },
  {
   "cell_type": "markdown",
   "metadata": {},
   "source": [
    "original token ids"
   ]
  },
  {
   "cell_type": "code",
   "execution_count": 6,
   "metadata": {},
   "outputs": [
    {
     "data": {
      "text/plain": [
       "tensor([[  1,  29,  36,  72,  81, 100,  74,  99,  80,  27,  31, 101,  78,  72,\n",
       "          75,  77,  78,  79,  72,  75,  87,  79,  75,  87,  79,  87, 100,  74,\n",
       "           2,   6,   6,   6,   6,   6,   6,   6,   6,   6,   6,   6,   6,   6,\n",
       "           6,   6,   6,   6,   6,   6],\n",
       "        [  1,  29,  36,  72,  81, 100,  74,  99,  80,  27,  31, 101,  78,  72,\n",
       "          72, 100,  74,   2,   6,   6,   6,   6,   6,   6,   6,   6,   6,   6,\n",
       "           6,   6,   6,   6,   6,   6,   6,   6,   6,   6,   6,   6,   6,   6,\n",
       "           6,   6,   6,   6,   6,   6],\n",
       "        [  1,  29,  36,  72,  81, 100,  74,  99,  80,  27,  31, 101,  78, 100,\n",
       "          74,   2,   6,   6,   6,   6,   6,   6,   6,   6,   6,   6,   6,   6,\n",
       "           6,   6,   6,   6,   6,   6,   6,   6,   6,   6,   6,   6,   6,   6,\n",
       "           6,   6,   6,   6,   6,   6],\n",
       "        [  1,  29,  36,  72,  81, 100,  74,  99,  80,  27,  31, 101,  78,  72,\n",
       "         100,  74,   2,   6,   6,   6,   6,   6,   6,   6,   6,   6,   6,   6,\n",
       "           6,   6,   6,   6,   6,   6,   6,   6,   6,   6,   6,   6,   6,   6,\n",
       "           6,   6,   6,   6,   6,   6],\n",
       "        [  1,  29,  36,  72,  81, 100,  80,  99,  82,  27,  31, 101,  71, 100,\n",
       "          82,   2,   6,   6,   6,   6,   6,   6,   6,   6,   6,   6,   6,   6,\n",
       "           6,   6,   6,   6,   6,   6,   6,   6,   6,   6,   6,   6,   6,   6,\n",
       "           6,   6,   6,   6,   6,   6],\n",
       "        [  1,  29,  36,  72,  72, 100,  82,  99,  89,  27,  31, 101,  71, 100,\n",
       "          82,  27,  31, 101,  96,  75,  78,  79,  78, 100,  89,   2,   6,   6,\n",
       "           6,   6,   6,   6,   6,   6,   6,   6,   6,   6,   6,   6,   6,   6,\n",
       "           6,   6,   6,   6,   6,   6],\n",
       "        [  1,  29,  36,  72,  72, 100,  74,  82,  99,  74,  89,  29,  36,  72,\n",
       "          72, 100,  74,  89,  99,  74,  91,  30,  36,  72,  77,  72, 100,  74,\n",
       "          82,  99,  74,  91,  27,  31, 101,  58,  75,  72,  79,  75,  72,  79,\n",
       "          77,  78, 100,  74,  89,   2],\n",
       "        [  1,  29,  36,  72,  81, 100,  80,  99,  82,  29,  36,  72,  72, 100,\n",
       "          82,  99,  89,  27,  31, 101,  77,  78, 100,  82,   2,   6,   6,   6,\n",
       "           6,   6,   6,   6,   6,   6,   6,   6,   6,   6,   6,   6,   6,   6,\n",
       "           6,   6,   6,   6,   6,   6],\n",
       "        [  1,  29,  36,  72,  72, 100,  74,  82,  99,  74,  89,  29,  36,  72,\n",
       "          72, 100,  74,  89,  99,  74,  91,  30,  36,  72,  77,  72, 100,  74,\n",
       "          82,  99,  74,  91,  27,  31, 101,  92, 100,  74,  89,  27,  31, 101,\n",
       "          92, 100,  74,  89,   2,   6],\n",
       "        [  1,  29,  36,  72,  81, 100,  74,  99,  80,  27,  31, 101,  78,  72,\n",
       "          74,  72,  72,  72,  72,  78,  74, 100,  74,   2,   6,   6,   6,   6,\n",
       "           6,   6,   6,   6,   6,   6,   6,   6,   6,   6,   6,   6,   6,   6,\n",
       "           6,   6,   6,   6,   6,   6],\n",
       "        [  1,  29,  36,  72,  71, 100, 102,  99,  74, 103,  27,  31, 101,  81,\n",
       "          74,  72,  75,  77,  78,  79,  72,  72,  72,  74,  77,  78, 100,  74,\n",
       "         103,   2,   6,   6,   6,   6,   6,   6,   6,   6,   6,   6,   6,   6,\n",
       "           6,   6,   6,   6,   6,   6],\n",
       "        [  1,  29,  36,  78,  34, 100,  74,  99,  89,  27,  31, 101,  70, 100,\n",
       "          74,   2,   6,   6,   6,   6,   6,   6,   6,   6,   6,   6,   6,   6,\n",
       "           6,   6,   6,   6,   6,   6,   6,   6,   6,   6,   6,   6,   6,   6,\n",
       "           6,   6,   6,   6,   6,   6],\n",
       "        [  1,  29,  36,  72,  71, 100, 102,  99,  74, 103,  27,  31, 101,  72,\n",
       "          75,  71,  79,  75,  71,  79,  71, 100,  74, 103,  27,  31, 101,  78,\n",
       "         100, 102,   2,   6,   6,   6,   6,   6,   6,   6,   6,   6,   6,   6,\n",
       "           6,   6,   6,   6,   6,   6],\n",
       "        [  1,  29,  36,  78,  34, 100,  74,  99,  89,  27,  31, 101,  71, 100,\n",
       "          74,   2,   6,   6,   6,   6,   6,   6,   6,   6,   6,   6,   6,   6,\n",
       "           6,   6,   6,   6,   6,   6,   6,   6,   6,   6,   6,   6,   6,   6,\n",
       "           6,   6,   6,   6,   6,   6],\n",
       "        [  1,  30,  36,  72,  77,  72, 100,  97,  99, 104,   2,   6,   6,   6,\n",
       "           6,   6,   6,   6,   6,   6,   6,   6,   6,   6,   6,   6,   6,   6,\n",
       "           6,   6,   6,   6,   6,   6,   6,   6,   6,   6,   6,   6,   6,   6,\n",
       "           6,   6,   6,   6,   6,   6],\n",
       "        [  1,  29,  36,  72,  78, 100,  89,  99,  91,  27,  31, 101,  71, 100,\n",
       "          91,   2,   6,   6,   6,   6,   6,   6,   6,   6,   6,   6,   6,   6,\n",
       "           6,   6,   6,   6,   6,   6,   6,   6,   6,   6,   6,   6,   6,   6,\n",
       "           6,   6,   6,   6,   6,   6],\n",
       "        [  1,  29,  36,  72,  78, 100,  89,  99,  91,  27,  31, 101,  70, 100,\n",
       "          91,   2,   6,   6,   6,   6,   6,   6,   6,   6,   6,   6,   6,   6,\n",
       "           6,   6,   6,   6,   6,   6,   6,   6,   6,   6,   6,   6,   6,   6,\n",
       "           6,   6,   6,   6,   6,   6],\n",
       "        [  1,  29,  36,  72,  78, 100,  74,  99,  89,  27,  31, 101,  70, 100,\n",
       "          74,   2,   6,   6,   6,   6,   6,   6,   6,   6,   6,   6,   6,   6,\n",
       "           6,   6,   6,   6,   6,   6,   6,   6,   6,   6,   6,   6,   6,   6,\n",
       "           6,   6,   6,   6,   6,   6],\n",
       "        [  1,  29,  36,  72,  71, 100, 104,  99, 102,  27,  31, 101,  81,  74,\n",
       "          72,  75,  77,  78,  79,  72,  72,  72,  74,  77,  78, 100, 102,   2,\n",
       "           6,   6,   6,   6,   6,   6,   6,   6,   6,   6,   6,   6,   6,   6,\n",
       "           6,   6,   6,   6,   6,   6],\n",
       "        [  1,  30,  36,  72,  77,  72, 100,  97,  99, 104,  29,  36,  72,  71,\n",
       "         100, 102,  99,  74, 103,   2,   6,   6,   6,   6,   6,   6,   6,   6,\n",
       "           6,   6,   6,   6,   6,   6,   6,   6,   6,   6,   6,   6,   6,   6,\n",
       "           6,   6,   6,   6,   6,   6]], device='cuda:0')"
      ]
     },
     "execution_count": 6,
     "metadata": {},
     "output_type": "execute_result"
    }
   ],
   "source": [
    "result[0][0]"
   ]
  },
  {
   "cell_type": "code",
   "execution_count": 7,
   "metadata": {},
   "outputs": [
    {
     "data": {
      "text/plain": [
       "([0.43011507391929626,\n",
       "  0.2086338996887207,\n",
       "  0.09273155778646469,\n",
       "  0.05441027879714966,\n",
       "  0.04763505607843399,\n",
       "  0.036633994430303574,\n",
       "  0.035466790199279785,\n",
       "  0.03504745662212372,\n",
       "  0.033667389303445816,\n",
       "  0.02565857209265232],\n",
       " ['[Delete][Bond]CN:1.2[Attaching][Group]*OC(=O)C(F)(F)F:1',\n",
       "  '[Delete][Bond]CN:1.2[Attaching][Group]*OCC:1',\n",
       "  '[Delete][Bond]CN:1.2[Attaching][Group]*O:1',\n",
       "  '[Delete][Bond]CN:1.2[Attaching][Group]*OC:1',\n",
       "  '[Delete][Bond]CN:2.3[Attaching][Group]*Br:3',\n",
       "  '[Delete][Bond]CC:3.4[Attaching][Group]*Br:3[Attaching][Group]*B(O)O:4',\n",
       "  '[Delete][Bond]CC:13.14[Delete][Bond]CC:14.15[Change][Bond]C=C:13.15[Attaching][Group]*[S+](C)(C)=O:14',\n",
       "  '[Delete][Bond]CN:2.3[Delete][Bond]CC:3.4[Attaching][Group]*=O:3',\n",
       "  '[Delete][Bond]CC:13.14[Delete][Bond]CC:14.15[Change][Bond]C=C:13.15[Attaching][Group]*I:14[Attaching][Group]*I:14',\n",
       "  '[Delete][Bond]CN:1.2[Attaching][Group]*OC1CCCCO1:1'])"
      ]
     },
     "execution_count": 7,
     "metadata": {},
     "output_type": "execute_result"
    }
   ],
   "source": [
    "SMILES = \"O=C(NCc1ccccc1S(=O)(=O)C1CC1)C(F)(F)F\"\n",
    "result = p2s(SMILES)\n",
    "result[0][1], result[1]"
   ]
  },
  {
   "cell_type": "markdown",
   "metadata": {},
   "source": [
    "The usage of the other two modules is almost the same."
   ]
  },
  {
   "cell_type": "code",
   "execution_count": 8,
   "metadata": {},
   "outputs": [],
   "source": [
    "from product2SSREdits import Product2EC, Product2SSREditsEC"
   ]
  },
  {
   "cell_type": "markdown",
   "metadata": {},
   "source": [
    "### 4.2 obtain the EC number based on the product"
   ]
  },
  {
   "cell_type": "code",
   "execution_count": 9,
   "metadata": {},
   "outputs": [
    {
     "data": {
      "text/plain": [
       "['2.7', '2.1', '2.3']"
      ]
     },
     "execution_count": 9,
     "metadata": {},
     "output_type": "execute_result"
    }
   ],
   "source": [
    "p2e = Product2EC(ec_num=2)\n",
    "smiles_lst = [\"CCC=CCC=CCC=CCC=CCC=CCC=CCCC(=O)O[C@H](COC(=O)CCCCCCCCCCCC=CCC=CCCCCC)COP(=O)(O)OCC[N+](C)(C)C\", \n",
    "                  \"C[C@]12CC[C@@H]3c4ccc(O)cc4CC[C@H]3[C@@H]1C[C@H](O)C2=O\"]\n",
    "result = p2e(smiles_lst)\n",
    "result[1][:3]"
   ]
  },
  {
   "cell_type": "markdown",
   "metadata": {},
   "source": [
    "### 4.3 Obtain EC numbers and SSREdits based on the product."
   ]
  },
  {
   "cell_type": "code",
   "execution_count": 10,
   "metadata": {},
   "outputs": [
    {
     "data": {
      "text/plain": [
       "['[Delete][Bond]CO:13.15[Attaching][Group]*SCCNC(=O)CCNC(=O)[C@H](O)C(C)(C)COP(=O)(O)OP(=O)(O)OC[C@H]1O[C@@H](n2cnc3c(N)ncnc32)[C@H](O)[C@@H]1OP(=O)(O)O:13[Change][Atom]C@@:17[EC]2.3',\n",
       " '[Delete][Bond]CO:13.15[Attaching][Group]*SCCNC(=O)CCNC(=O)C(O)C(C)(C)COP(=O)(O)OP(=O)(O)OC[C@H]1O[C@@H](n2cnc3c(N)ncnc32)[C@H](O)[C@@H]1OP(=O)(O)O:13[Change][Atom]C@@:17[EC]2.3',\n",
       " '[Delete][Bond]CO:13.15[Attaching][Group]*SCCNC(=O)CCNC(=O)[C@H](O)C(C)(C)COP(=O)(O)OP(=O)(O)OC[C@H]1O[C@@H](n2cnc3c(N)ncnc32)[C@@H](O)C1OP(=O)(O)O:13[Change][Atom]C@@:17[EC]2.3']"
      ]
     },
     "execution_count": 10,
     "metadata": {},
     "output_type": "execute_result"
    }
   ],
   "source": [
    "'''\n",
    "[EC][Backward]CCCCC=CCCCCCCCC(=O)OC[C@H](COC(=O)CCCCCCCCCCCCC)OC(=O)CCCCCCCCCCCCC[EC]2\n",
    "[EC][Backward]*SC(=O)C=CCCCCCCCCCCCCC[EC]2\n",
    "    \n",
    "[EC]2.3[Delete][Bond]CO:13.15[Attaching][Group]*SCCNC(=O)CCNC(=O)[C@H](O)C(C)(C)COP(=O)(O)OP(=O)(O)OC[C@H]1O[C@@H](n2cnc3c(N)ncnc32)[C@H](O)[C@@H]1OP(=O)(O)O:13[Change][Atom]C@@:17\n",
    "[EC]1.3[Change][Bond]CC:4.5[Attaching][Group]NC(=O)c1ccc[n+]([C@@H]2O[C@H](COP(=O)(O)OP(=O)(O)OC[C@H]3O[C@@H](n4cnc5c(N)ncnc54)[C@H](OP(=O)(O)O)[C@@H]3O)[C@@H](O)[C@H]2O)c1:-1\n",
    "'''\n",
    "p2se = Product2SSREditsEC(ec_num=2)    \n",
    "smiles_lst = [\"CCCCC=CCCCCCCCC(=O)OC[C@H](COC(=O)CCCCCCCCCCCCC)OC(=O)CCCCCCCCCCCCC\", \n",
    "              \"*SC(=O)C=CCCCCCCCCCCCCC\"]\n",
    "result = p2se(smiles_lst)\n",
    "result[1][:3]"
   ]
  },
  {
   "cell_type": "markdown",
   "metadata": {},
   "source": [
    "### 4.4 Predict EC numbers based on the product and SSREdits."
   ]
  },
  {
   "cell_type": "code",
   "execution_count": 11,
   "metadata": {},
   "outputs": [
    {
     "data": {
      "text/plain": [
       "['2.1.1.71', '2.1.1.76', '2.1.7.2']"
      ]
     },
     "execution_count": 11,
     "metadata": {},
     "output_type": "execute_result"
    }
   ],
   "source": [
    "from product2SSREdits import ProductSSREdits2EC\n",
    "'''\n",
    "[EC]4[EC]CCC=CCC=CCC=CCC=CCC=CCC=CCCC(=O)O[C@H](COC(=O)CCCCCCCCCCCC=CCC=CCCCCC)COP(=O)(O)OCC[N+](C)(C)C<<[Delete][Bond]CN:58.61[Attaching][Group]*[S+](CC[C@H](N)C(=O)O)C[C@H]1O[C@@H](n2cnc3c(N)ncnc32)[C@H](O)[C@@H]1O:61[Change][Atom]C:24\n",
    "[EC]4[EC]O=C(O)C1=C[C@@H](O)[C@@H](O)[C@H](O)C1<<[Change][Bond]C=O:5.6[Attaching][Group][H+]:-1[Attaching][Group]NC(=O)C1=CN([C@@H]2O[C@H](COP(=O)(O)OP(=O)(O)OC[C@H]3O[C@@H](n4cnc5c(N)ncnc54)[C@H](O)[C@@H]3O)[C@@H](O)[C@H]2O)C=CC1:-1[Change][Atom]C:5\n",
    "    \n",
    "2.1.1.71\n",
    "1.1.1.25\n",
    "'''\n",
    "po2e = ProductSSREdits2EC(4)\n",
    "input_lst = [\"CCC=CCC=CCC=CCC=CCC=CCC=CCCC(=O)O[C@H](COC(=O)CCCCCCCCCCCC=CCC=CCCCCC)COP(=O)(O)OCC[N+](C)(C)C<<[Delete][Bond]CN:58.61[Attaching][Group]*[S+](CC[C@H](N)C(=O)O)C[C@H]1O[C@@H](n2cnc3c(N)ncnc32)[C@H](O)[C@@H]1O:61[Change][Atom]C:24\",\n",
    "            \"O=C(O)C1=C[C@@H](O)[C@@H](O)[C@H](O)C1<<[Change][Bond]C=O:5.6[Attaching][Group][H+]:-1[Attaching][Group]NC(=O)C1=CN([C@@H]2O[C@H](COP(=O)(O)OP(=O)(O)OC[C@H]3O[C@@H](n4cnc5c(N)ncnc54)[C@H](O)[C@@H]3O)[C@@H](O)[C@H]2O)C=CC1:-1[Change][Atom]C:5\"]\n",
    "result = po2e(input_lst)\n",
    "result[1][:3]"
   ]
  }
 ],
 "metadata": {
  "kernelspec": {
   "display_name": "T5retro",
   "language": "python",
   "name": "python3"
  },
  "language_info": {
   "codemirror_mode": {
    "name": "ipython",
    "version": 3
   },
   "file_extension": ".py",
   "mimetype": "text/x-python",
   "name": "python",
   "nbconvert_exporter": "python",
   "pygments_lexer": "ipython3",
   "version": "3.10.14"
  }
 },
 "nbformat": 4,
 "nbformat_minor": 2
}
